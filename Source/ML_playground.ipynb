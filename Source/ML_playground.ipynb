{
 "cells": [
  {
   "cell_type": "code",
   "execution_count": 5,
   "metadata": {},
   "outputs": [],
   "source": [
    "import pandas as pd\n",
    "from sklearn.preprocessing import StandardScaler, LabelEncoder, OneHotEncoder\n",
    "from sklearn.model_selection import train_test_split\n",
    "\n",
    "# Sample dataset\n",
    "data = {\n",
    "    'Age': [25, 30, 35, 22, 28],\n",
    "    'Gender': ['Male', 'Female', 'Male', 'Male', 'Female'],\n",
    "    'Salary': [45000, 60000, 58000, 40000, 55000],\n",
    "    'Purchased': ['Yes', 'No', 'Yes', 'No', 'Yes']\n",
    "}\n",
    "\n",
    "df = pd.DataFrame(data)\n",
    "\n",
    "# 1. Handling Missing Data (if any)\n",
    "# For simplicity, we assume there's no missing data in this example.\n",
    "\n",
    "# 2. Encoding Categorical Variables\n",
    "# Label encoding for 'Gender'\n",
    "label_encoder = LabelEncoder()\n",
    "df['Gender'] = label_encoder.fit_transform(df['Gender'])\n",
    "\n",
    "# One-hot encoding for 'Purchased'\n",
    "one_hot_encoder = OneHotEncoder()\n",
    "purchased_encoded = one_hot_encoder.fit_transform(df[['Purchased']]).toarray()\n",
    "df_encoded = pd.concat([df, pd.DataFrame(purchased_encoded, columns=[\n",
    "                       'Purchased_No', 'Purchased_Yes'])], axis=1)\n",
    "df_encoded = df_encoded.drop(columns=['Purchased'])\n",
    "\n",
    "# 3. Scaling Numerical Features\n",
    "scaler = StandardScaler()\n",
    "df_encoded[['Age', 'Salary']] = scaler.fit_transform(\n",
    "    df_encoded[['Age', 'Salary']])\n",
    "\n",
    "# 4. Splitting Data into Training and Testing Sets\n",
    "X = df_encoded.drop(columns=['Purchased_Yes'])\n",
    "y = df_encoded['Purchased_Yes']\n",
    "\n",
    "X_train, X_test, y_train, y_test = train_test_split(\n",
    "    X, y, test_size=0.2, random_state=42)\n",
    "\n",
    "# Now you can use X_train and y_train for training a machine learning model,\n",
    "# and X_test and y_test for testing and evaluating the model.\n"
   ]
  },
  {
   "attachments": {},
   "cell_type": "markdown",
   "metadata": {},
   "source": [
    "Import Libraries:\n",
    "\n",
    "sklearn.preprocessing import StandardScaler, LabelEncoder, OneHotEncoder: Imports specific preprocessing tools from scikit-learn.\n",
    "\n",
    "Data Loading:\n",
    "\n",
    "The sample dataset is loaded into a pandas DataFrame named df. \n",
    "A DataFrame is a tabular data structure used for data manipulation and analysis.\n",
    "H\n",
    "andling Missing Data (if any):\n",
    "\n",
    "The code includes a comment stating that it assumes there's no missing data. \n",
    "In a real-world scenario, you would need to handle missing data, which might involve imputation or removal of rows/columns with missing values.\n",
    "\n",
    "Encoding Categorical Variables:\n",
    "\n",
    "The 'Gender' column is encoded using label encoding with LabelEncoder. \n",
    "It converts categorical values ('Male' and 'Female') into numerical values (0 and 1), capturing the ordinal relationship between categories.\n",
    "\n",
    "The 'Purchased' column is one-hot encoded using OneHotEncoder. It converts the categorical variable 'Purchased' into two binary columns ('Purchased_No' and 'Purchased_Yes') to represent whether a purchase was made or not.\n",
    "Scaling Numerical Features:\n",
    "\n",
    "The 'Age' and 'Salary' columns are scaled using StandardScaler. This standardization process ensures that both numerical features have similar scales, which is often important for many machine learning algorithms.\n",
    "Splitting Data into Training and Testing Sets:\n",
    "\n",
    "The dataset is split into training and testing sets using train_test_split from scikit-learn. \n",
    "This is a common practice to evaluate machine learning models. \n",
    "In this example, 80% of the data is used for training (X_train and y_train), and 20% is reserved for testing (X_test and y_test). The random_state parameter ensures reproducibility.\n",
    "\n",
    "Final Comments:\n",
    "The code concludes with comments explaining that the preprocessed data can now be used for training a machine learning model (X_train and y_train) and for testing and evaluating the model (X_test and y_test)."
   ]
  },
  {
   "cell_type": "code",
   "execution_count": 6,
   "metadata": {},
   "outputs": [
    {
     "name": "stdout",
     "output_type": "stream",
     "text": [
      "Classification Model (Logistic Regression) Results:\n",
      "Accuracy: 0.00\n",
      "Classification Report:\n",
      "              precision    recall  f1-score   support\n",
      "\n",
      "         0.0       0.00      0.00      0.00       1.0\n",
      "         1.0       0.00      0.00      0.00       0.0\n",
      "\n",
      "    accuracy                           0.00       1.0\n",
      "   macro avg       0.00      0.00      0.00       1.0\n",
      "weighted avg       0.00      0.00      0.00       1.0\n",
      "\n"
     ]
    },
    {
     "name": "stderr",
     "output_type": "stream",
     "text": [
      "/opt/homebrew/lib/python3.11/site-packages/sklearn/metrics/_classification.py:1469: UndefinedMetricWarning: Precision and F-score are ill-defined and being set to 0.0 in labels with no predicted samples. Use `zero_division` parameter to control this behavior.\n",
      "  _warn_prf(average, modifier, msg_start, len(result))\n",
      "/opt/homebrew/lib/python3.11/site-packages/sklearn/metrics/_classification.py:1469: UndefinedMetricWarning: Recall and F-score are ill-defined and being set to 0.0 in labels with no true samples. Use `zero_division` parameter to control this behavior.\n",
      "  _warn_prf(average, modifier, msg_start, len(result))\n",
      "/opt/homebrew/lib/python3.11/site-packages/sklearn/metrics/_classification.py:1469: UndefinedMetricWarning: Precision and F-score are ill-defined and being set to 0.0 in labels with no predicted samples. Use `zero_division` parameter to control this behavior.\n",
      "  _warn_prf(average, modifier, msg_start, len(result))\n",
      "/opt/homebrew/lib/python3.11/site-packages/sklearn/metrics/_classification.py:1469: UndefinedMetricWarning: Recall and F-score are ill-defined and being set to 0.0 in labels with no true samples. Use `zero_division` parameter to control this behavior.\n",
      "  _warn_prf(average, modifier, msg_start, len(result))\n",
      "/opt/homebrew/lib/python3.11/site-packages/sklearn/metrics/_classification.py:1469: UndefinedMetricWarning: Precision and F-score are ill-defined and being set to 0.0 in labels with no predicted samples. Use `zero_division` parameter to control this behavior.\n",
      "  _warn_prf(average, modifier, msg_start, len(result))\n",
      "/opt/homebrew/lib/python3.11/site-packages/sklearn/metrics/_classification.py:1469: UndefinedMetricWarning: Recall and F-score are ill-defined and being set to 0.0 in labels with no true samples. Use `zero_division` parameter to control this behavior.\n",
      "  _warn_prf(average, modifier, msg_start, len(result))\n"
     ]
    }
   ],
   "source": [
    "from sklearn.linear_model import LogisticRegression\n",
    "from sklearn.metrics import accuracy_score, classification_report\n",
    "\n",
    "# Create and train a Logistic Regression model\n",
    "classifier = LogisticRegression(random_state=42)\n",
    "classifier.fit(X_train, y_train)\n",
    "\n",
    "# Make predictions on the test data\n",
    "y_pred = classifier.predict(X_test)\n",
    "\n",
    "# Evaluate the model\n",
    "accuracy = accuracy_score(y_test, y_pred)\n",
    "classification_report_output = classification_report(y_test, y_pred)\n",
    "\n",
    "print(\"Classification Model (Logistic Regression) Results:\")\n",
    "print(f\"Accuracy: {accuracy:.2f}\")\n",
    "print(\"Classification Report:\")\n",
    "print(classification_report_output)\n"
   ]
  },
  {
   "attachments": {},
   "cell_type": "markdown",
   "metadata": {},
   "source": [
    "^^Logistic Regression\n",
    "If your goal is to predict whether a customer will make a purchase (\"Purchased_Yes\" or \"Purchased_No\"), you can use classification models such as:\n"
   ]
  },
  {
   "cell_type": "code",
   "execution_count": 7,
   "metadata": {},
   "outputs": [
    {
     "name": "stdout",
     "output_type": "stream",
     "text": [
      "Regression Model (Linear Regression) Results:\n",
      "Mean Squared Error (MSE): 0.00\n",
      "R-squared (R2): nan\n"
     ]
    },
    {
     "name": "stderr",
     "output_type": "stream",
     "text": [
      "/opt/homebrew/lib/python3.11/site-packages/sklearn/metrics/_regression.py:996: UndefinedMetricWarning: R^2 score is not well-defined with less than two samples.\n",
      "  warnings.warn(msg, UndefinedMetricWarning)\n"
     ]
    }
   ],
   "source": [
    "from sklearn.linear_model import LinearRegression\n",
    "from sklearn.metrics import mean_squared_error, r2_score\n",
    "\n",
    "# Create and train a Linear Regression model\n",
    "regressor = LinearRegression()\n",
    "regressor.fit(X_train, y_train)\n",
    "\n",
    "# Make predictions on the test data\n",
    "y_pred = regressor.predict(X_test)\n",
    "\n",
    "# Evaluate the model\n",
    "mse = mean_squared_error(y_test, y_pred)\n",
    "r2 = r2_score(y_test, y_pred)\n",
    "\n",
    "print(\"Regression Model (Linear Regression) Results:\")\n",
    "print(f\"Mean Squared Error (MSE): {mse:.2f}\")\n",
    "print(f\"R-squared (R2): {r2:.2f}\")\n"
   ]
  },
  {
   "attachments": {},
   "cell_type": "markdown",
   "metadata": {},
   "source": [
    "^^Linear Regression\n",
    "If you want to predict a numerical value (e.g., predicting the amount spent by a customer based on age, gender, and salary), you can use regression models such as:"
   ]
  }
 ],
 "metadata": {
  "kernelspec": {
   "display_name": "ai_tools",
   "language": "python",
   "name": "python3"
  },
  "language_info": {
   "codemirror_mode": {
    "name": "ipython",
    "version": 3
   },
   "file_extension": ".py",
   "mimetype": "text/x-python",
   "name": "python",
   "nbconvert_exporter": "python",
   "pygments_lexer": "ipython3",
   "version": "3.11.5"
  },
  "orig_nbformat": 4
 },
 "nbformat": 4,
 "nbformat_minor": 2
}
